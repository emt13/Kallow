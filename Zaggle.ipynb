{
 "cells": [
  {
   "cell_type": "code",
   "execution_count": 163,
   "metadata": {
    "collapsed": true
   },
   "outputs": [],
   "source": [
    "%matplotlib inline\n",
    "\n",
    "import numpy as np\n",
    "import pandas as pd\n",
    "from sklearn.cross_decomposition import CCA\n",
    "from sklearn import preprocessing\n",
    "from sklearn.ensemble import GradientBoostingRegressor\n",
    "from sklearn.metrics import mean_squared_error"
   ]
  },
  {
   "cell_type": "code",
   "execution_count": 164,
   "metadata": {},
   "outputs": [
    {
     "name": "stdout",
     "output_type": "stream",
     "text": [
      "Starting\n"
     ]
    },
    {
     "name": "stderr",
     "output_type": "stream",
     "text": [
      "/usr/local/lib/python3.6/site-packages/IPython/core/interactiveshell.py:2698: DtypeWarning: Columns (22,32,34,49,55) have mixed types. Specify dtype option on import or set low_memory=False.\n",
      "  interactivity=interactivity, compiler=compiler, result=result)\n"
     ]
    },
    {
     "name": "stdout",
     "output_type": "stream",
     "text": [
      "done\n"
     ]
    }
   ],
   "source": [
    "print(\"Starting\")\n",
    "transactions = pd.read_csv('data/train_2016_v2.csv', parse_dates=['transactiondate'])\n",
    "test_transactions = pd.read_csv('data/train_2017.csv', parse_dates=['transactiondate'])\n",
    "properties = pd.read_csv('data/properties_2016.csv')\n",
    "print(\"done\")"
   ]
  },
  {
   "cell_type": "code",
   "execution_count": 166,
   "metadata": {},
   "outputs": [],
   "source": [
    "merged = pd.merge(transactions, properties, on=\"parcelid\", how=\"left\")\n",
    "test_merged = pd.merge(test_transactions, properties, on=\"parcelid\", how=\"left\")"
   ]
  },
  {
   "cell_type": "code",
   "execution_count": 167,
   "metadata": {
    "scrolled": true
   },
   "outputs": [],
   "source": [
    "merged = merged.dropna(axis=1, how='all')\n",
    "test_merged = merged.dropna(axis=1, how='all')\n",
    "\n",
    "df = merged.filter(regex='id')\n",
    "df.fillna(df.mode().iloc[0], axis=0, inplace=True)\n",
    "\n",
    "test_df = test_merged.filter(regex='id')\n",
    "test_df.fillna(test_df.mode().iloc[0], axis=0, inplace=True)\n",
    "\n",
    "merged.fillna(merged.mean(), axis=0, inplace=True)\n",
    "merged[list(df.keys())] = df\n",
    "\n",
    "test_merged.fillna(test_merged.mean(), axis=0, inplace=True)\n",
    "test_merged[list(test_df.keys())] = df\n",
    "\n",
    "for f in merged.columns:\n",
    "    if merged[f].dtype=='object':\n",
    "        lbl = preprocessing.LabelEncoder()\n",
    "        lbl.fit(list(merged[f].values)) \n",
    "        merged[f] = lbl.transform(list(merged[f].values))\n",
    "        \n",
    "for f in test_merged.columns:\n",
    "    if test_merged[f].dtype=='object':\n",
    "        lbl = preprocessing.LabelEncoder()\n",
    "        lbl.fit(list(test_merged[f].values)) \n",
    "        test_merged[f] = lbl.transform(list(test_merged[f].values))\n",
    "\n",
    "Y = merged.logerror.values\n",
    "X = merged.drop([\"parcelid\", \"transactiondate\", \"logerror\"], axis=1)\n",
    "\n",
    "Y_test = test_merged.logerror.values\n",
    "X_test = test_merged.drop([\"parcelid\", \"transactiondate\", \"logerror\"], axis=1)"
   ]
  },
  {
   "cell_type": "code",
   "execution_count": 162,
   "metadata": {},
   "outputs": [
    {
     "data": {
      "text/plain": [
       "0.94046595909819708"
      ]
     },
     "execution_count": 162,
     "metadata": {},
     "output_type": "execute_result"
    }
   ],
   "source": [
    "est = GradientBoostingRegressor(n_estimators=100, learning_rate=0.1, max_depth=20, random_state=0, loss='ls')\n",
    "est.fit(X, Y)\n",
    "est.score(X, Y)"
   ]
  },
  {
   "cell_type": "code",
   "execution_count": 169,
   "metadata": {},
   "outputs": [
    {
     "data": {
      "text/plain": [
       "0.0015446764041706835"
      ]
     },
     "execution_count": 169,
     "metadata": {},
     "output_type": "execute_result"
    }
   ],
   "source": [
    "mean_squared_error(Y_test, est.predict(X_test))\n",
    "# est.score(X_test, Y_test)"
   ]
  }
 ],
 "metadata": {
  "kernelspec": {
   "display_name": "Python 3",
   "language": "python",
   "name": "python3"
  },
  "language_info": {
   "codemirror_mode": {
    "name": "ipython",
    "version": 3
   },
   "file_extension": ".py",
   "mimetype": "text/x-python",
   "name": "python",
   "nbconvert_exporter": "python",
   "pygments_lexer": "ipython3",
   "version": "3.6.3"
  }
 },
 "nbformat": 4,
 "nbformat_minor": 1
}

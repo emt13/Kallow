{
 "cells": [
  {
   "cell_type": "code",
   "execution_count": 7,
   "metadata": {
    "collapsed": true
   },
   "outputs": [],
   "source": [
    "import pandas as pd\n",
    "import pickle\n",
    "from sklearn.ensemble import GradientBoostingRegressor\n",
    "from sklearn.metrics import mean_squared_error\n",
    "from sklearn import preprocessing\n",
    "\n",
    "def imputate_data(df):\n",
    "    df.dropna(axis=1, how='all', inplace=True)\n",
    "\n",
    "    df1 = df.filter(regex='id')\n",
    "    df1.fillna(df1.mode().iloc[0], axis=0, inplace=True)\n",
    "\n",
    "    df.fillna(df.mean(), axis=0, inplace=True)\n",
    "    df[list(df1.keys())] = df1\n",
    "\n",
    "def encode_objects(df):\n",
    "    for f in df.columns:\n",
    "        if df[f].dtype=='object':\n",
    "            lbl = preprocessing.LabelEncoder()\n",
    "            lbl.fit(list(df[f].values))\n",
    "            df[f] = lbl.transform(list(df[f].values))\n",
    "\n",
    "def split_merged(df):\n",
    "    Y = df.logerror.values\n",
    "    X = df.drop([\"parcelid\", \"transactiondate\", \"logerror\"], axis=1)\n",
    "    return X, Y"
   ]
  },
  {
   "cell_type": "code",
   "execution_count": 9,
   "metadata": {},
   "outputs": [
    {
     "name": "stdout",
     "output_type": "stream",
     "text": [
      "Loading data...\n"
     ]
    },
    {
     "name": "stderr",
     "output_type": "stream",
     "text": [
      "/usr/local/lib/python3.6/site-packages/IPython/core/interactiveshell.py:2698: DtypeWarning: Columns (22,32,34,49,55) have mixed types. Specify dtype option on import or set low_memory=False.\n",
      "  interactivity=interactivity, compiler=compiler, result=result)\n"
     ]
    },
    {
     "name": "stdout",
     "output_type": "stream",
     "text": [
      "Done.\n",
      "-------------------------------------------------------------------\n",
      "Parsing data...\n"
     ]
    }
   ],
   "source": [
    "print(\"Loading data...\")\n",
    "transactions = pd.read_csv('data/train_2016_v2.csv', parse_dates=['transactiondate'])\n",
    "test_transactions = pd.read_csv('data/train_2017.csv', parse_dates=['transactiondate'])\n",
    "properties = pd.read_csv('data/properties_2016.csv')\n",
    "print(\"Done.\")\n",
    "print(\"-------------------------------------------------------------------\")\n",
    "\n",
    "print(\"Parsing data...\")\n",
    "merged = pd.merge(transactions, properties, on=\"parcelid\", how=\"left\")\n",
    "test_merged = pd.merge(test_transactions, properties, on=\"parcelid\", how=\"left\")\n",
    "\n",
    "imputate_data(merged)\n",
    "imputate_data(test_merged)\n",
    "\n",
    "encode_objects(merged)\n",
    "encode_objects(test_merged)\n",
    "\n",
    "X, Y = split_merged(merged)\n",
    "X_test, Y_test = split_merged(test_merged)\n",
    "\n",
    "split_index = round(len(X)*0.7) # 70-30 training/validation split\n",
    "X_train, Y_train, X_validate, Y_validate = (X[:split_index], Y[:split_index],\n",
    "                                            X[split_index:], Y[split_index:])"
   ]
  },
  {
   "cell_type": "code",
   "execution_count": 18,
   "metadata": {},
   "outputs": [
    {
     "name": "stdout",
     "output_type": "stream",
     "text": [
      "0.10572490719\n",
      "0.0333701327718\n"
     ]
    }
   ],
   "source": [
    "model = pickle.load(open(\"model.p\", \"rb\"))\n",
    "print(model.score(X_train, Y_train))\n",
    "print(mean_squared_error(Y_test, model.predict(X_test)))\n",
    "\n",
    "print(model.feature_importances_)"
   ]
  }
 ],
 "metadata": {
  "kernelspec": {
   "display_name": "Python 3",
   "language": "python",
   "name": "python3"
  },
  "language_info": {
   "codemirror_mode": {
    "name": "ipython",
    "version": 3
   },
   "file_extension": ".py",
   "mimetype": "text/x-python",
   "name": "python",
   "nbconvert_exporter": "python",
   "pygments_lexer": "ipython3",
   "version": "3.6.3"
  }
 },
 "nbformat": 4,
 "nbformat_minor": 2
}
